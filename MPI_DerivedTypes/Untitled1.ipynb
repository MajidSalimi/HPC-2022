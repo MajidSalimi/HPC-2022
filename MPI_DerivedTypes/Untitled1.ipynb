{
  "nbformat": 4,
  "nbformat_minor": 0,
  "metadata": {
    "colab": {
      "provenance": []
    },
    "kernelspec": {
      "name": "python3",
      "display_name": "Python 3"
    },
    "language_info": {
      "name": "python"
    },
    "accelerator": "GPU",
    "gpuClass": "standard"
  },
  "cells": [
    {
      "cell_type": "code",
      "execution_count": 7,
      "metadata": {
        "colab": {
          "base_uri": "https://localhost:8080/"
        },
        "id": "N2-koQI0YKdn",
        "outputId": "9f34b964-55bd-4b2f-fd84-3790154290f7"
      },
      "outputs": [
        {
          "output_type": "stream",
          "name": "stdout",
          "text": [
            "Mounted at /content/drive\n"
          ]
        }
      ],
      "source": [
        "from google.colab import drive\n",
        "drive.mount('/content/drive')"
      ]
    },
    {
      "cell_type": "code",
      "source": [],
      "metadata": {
        "id": "HH5QPkxHeav0"
      },
      "execution_count": null,
      "outputs": []
    },
    {
      "cell_type": "code",
      "source": [
        "%%bash\n",
        "\n",
        "lscpu\n",
        "nvidia-smi"
      ],
      "metadata": {
        "colab": {
          "base_uri": "https://localhost:8080/"
        },
        "id": "fPJWA_1RYntn",
        "outputId": "cd86e492-e1f2-4ddc-9f63-e729560fea6a"
      },
      "execution_count": 8,
      "outputs": [
        {
          "output_type": "stream",
          "name": "stdout",
          "text": [
            "Architecture:        x86_64\n",
            "CPU op-mode(s):      32-bit, 64-bit\n",
            "Byte Order:          Little Endian\n",
            "CPU(s):              2\n",
            "On-line CPU(s) list: 0,1\n",
            "Thread(s) per core:  2\n",
            "Core(s) per socket:  1\n",
            "Socket(s):           1\n",
            "NUMA node(s):        1\n",
            "Vendor ID:           GenuineIntel\n",
            "CPU family:          6\n",
            "Model:               85\n",
            "Model name:          Intel(R) Xeon(R) CPU @ 2.00GHz\n",
            "Stepping:            3\n",
            "CPU MHz:             2000.138\n",
            "BogoMIPS:            4000.27\n",
            "Hypervisor vendor:   KVM\n",
            "Virtualization type: full\n",
            "L1d cache:           32K\n",
            "L1i cache:           32K\n",
            "L2 cache:            1024K\n",
            "L3 cache:            39424K\n",
            "NUMA node0 CPU(s):   0,1\n",
            "Flags:               fpu vme de pse tsc msr pae mce cx8 apic sep mtrr pge mca cmov pat pse36 clflush mmx fxsr sse sse2 ss ht syscall nx pdpe1gb rdtscp lm constant_tsc rep_good nopl xtopology nonstop_tsc cpuid tsc_known_freq pni pclmulqdq ssse3 fma cx16 pcid sse4_1 sse4_2 x2apic movbe popcnt aes xsave avx f16c rdrand hypervisor lahf_lm abm 3dnowprefetch invpcid_single ssbd ibrs ibpb stibp fsgsbase tsc_adjust bmi1 hle avx2 smep bmi2 erms invpcid rtm mpx avx512f avx512dq rdseed adx smap clflushopt clwb avx512cd avx512bw avx512vl xsaveopt xsavec xgetbv1 xsaves arat md_clear arch_capabilities\n",
            "Wed Nov 16 18:12:23 2022       \n",
            "+-----------------------------------------------------------------------------+\n",
            "| NVIDIA-SMI 460.32.03    Driver Version: 460.32.03    CUDA Version: 11.2     |\n",
            "|-------------------------------+----------------------+----------------------+\n",
            "| GPU  Name        Persistence-M| Bus-Id        Disp.A | Volatile Uncorr. ECC |\n",
            "| Fan  Temp  Perf  Pwr:Usage/Cap|         Memory-Usage | GPU-Util  Compute M. |\n",
            "|                               |                      |               MIG M. |\n",
            "|===============================+======================+======================|\n",
            "|   0  Tesla T4            Off  | 00000000:00:04.0 Off |                    0 |\n",
            "| N/A   37C    P8     9W /  70W |      0MiB / 15109MiB |      0%      Default |\n",
            "|                               |                      |                  N/A |\n",
            "+-------------------------------+----------------------+----------------------+\n",
            "                                                                               \n",
            "+-----------------------------------------------------------------------------+\n",
            "| Processes:                                                                  |\n",
            "|  GPU   GI   CI        PID   Type   Process name                  GPU Memory |\n",
            "|        ID   ID                                                   Usage      |\n",
            "|=============================================================================|\n",
            "|  No running processes found                                                 |\n",
            "+-----------------------------------------------------------------------------+\n"
          ]
        }
      ]
    },
    {
      "cell_type": "code",
      "source": [
        "%%bash\n",
        "sudo add-apt-repository ppa:gladky-anton/lammps\n",
        "sudo add-apt-repository ppa:openkim/latest\n",
        "sudo apt update"
      ],
      "metadata": {
        "colab": {
          "base_uri": "https://localhost:8080/"
        },
        "id": "Yz5ceCK1Yq9O",
        "outputId": "034c5e9a-cecc-4da8-a33f-1c325e7943f9"
      },
      "execution_count": null,
      "outputs": [
        {
          "output_type": "stream",
          "name": "stdout",
          "text": [
            " \n",
            " More info: https://launchpad.net/~gladky-anton/+archive/ubuntu/lammps\n",
            "Hit:1 http://archive.ubuntu.com/ubuntu bionic InRelease\n",
            "Get:2 http://security.ubuntu.com/ubuntu bionic-security InRelease [88.7 kB]\n",
            "Get:3 http://archive.ubuntu.com/ubuntu bionic-updates InRelease [88.7 kB]\n",
            "Get:4 https://cloud.r-project.org/bin/linux/ubuntu bionic-cran40/ InRelease [3,626 B]\n",
            "Ign:5 https://developer.download.nvidia.com/compute/machine-learning/repos/ubuntu1804/x86_64  InRelease\n",
            "Hit:6 https://developer.download.nvidia.com/compute/cuda/repos/ubuntu1804/x86_64  InRelease\n",
            "Hit:7 https://developer.download.nvidia.com/compute/machine-learning/repos/ubuntu1804/x86_64  Release\n",
            "Get:8 http://archive.ubuntu.com/ubuntu bionic-backports InRelease [83.3 kB]\n",
            "Hit:9 http://ppa.launchpad.net/c2d4u.team/c2d4u4.0+/ubuntu bionic InRelease\n",
            "Get:10 http://security.ubuntu.com/ubuntu bionic-security/main amd64 Packages [3,040 kB]\n",
            "Hit:12 http://ppa.launchpad.net/cran/libgit2/ubuntu bionic InRelease\n",
            "Get:13 http://security.ubuntu.com/ubuntu bionic-security/universe amd64 Packages [1,554 kB]\n",
            "Get:14 http://archive.ubuntu.com/ubuntu bionic-updates/restricted amd64 Packages [1,271 kB]\n",
            "Get:15 http://security.ubuntu.com/ubuntu bionic-security/restricted amd64 Packages [1,230 kB]\n",
            "Hit:16 http://ppa.launchpad.net/deadsnakes/ppa/ubuntu bionic InRelease\n",
            "Get:17 http://archive.ubuntu.com/ubuntu bionic-updates/universe amd64 Packages [2,332 kB]\n",
            "Get:18 http://archive.ubuntu.com/ubuntu bionic-updates/multiverse amd64 Packages [29.9 kB]\n",
            "Get:19 http://archive.ubuntu.com/ubuntu bionic-updates/main amd64 Packages [3,472 kB]\n",
            "Get:20 http://ppa.launchpad.net/gladky-anton/lammps/ubuntu bionic InRelease [15.4 kB]\n",
            "Hit:21 http://ppa.launchpad.net/graphics-drivers/ppa/ubuntu bionic InRelease\n",
            "Get:22 http://ppa.launchpad.net/gladky-anton/lammps/ubuntu bionic/main amd64 Packages [1,480 B]\n",
            "Fetched 13.2 MB in 2s (7,158 kB/s)\n",
            "Reading package lists...\n",
            " Latest releases of kim-api and openkim-models\n",
            " More info: https://launchpad.net/~openkim/+archive/ubuntu/latest\n",
            "Hit:1 https://cloud.r-project.org/bin/linux/ubuntu bionic-cran40/ InRelease\n",
            "Hit:2 http://security.ubuntu.com/ubuntu bionic-security InRelease\n",
            "Ign:3 https://developer.download.nvidia.com/compute/machine-learning/repos/ubuntu1804/x86_64  InRelease\n",
            "Hit:4 https://developer.download.nvidia.com/compute/cuda/repos/ubuntu1804/x86_64  InRelease\n",
            "Hit:5 https://developer.download.nvidia.com/compute/machine-learning/repos/ubuntu1804/x86_64  Release\n",
            "Hit:6 http://archive.ubuntu.com/ubuntu bionic InRelease\n",
            "Hit:7 http://archive.ubuntu.com/ubuntu bionic-updates InRelease\n",
            "Hit:8 http://ppa.launchpad.net/c2d4u.team/c2d4u4.0+/ubuntu bionic InRelease\n",
            "Hit:9 http://archive.ubuntu.com/ubuntu bionic-backports InRelease\n",
            "Hit:11 http://ppa.launchpad.net/cran/libgit2/ubuntu bionic InRelease\n",
            "Hit:12 http://ppa.launchpad.net/deadsnakes/ppa/ubuntu bionic InRelease\n",
            "Hit:13 http://ppa.launchpad.net/gladky-anton/lammps/ubuntu bionic InRelease\n",
            "Hit:14 http://ppa.launchpad.net/graphics-drivers/ppa/ubuntu bionic InRelease\n",
            "Get:15 http://ppa.launchpad.net/openkim/latest/ubuntu bionic InRelease [15.9 kB]\n",
            "Get:16 http://ppa.launchpad.net/openkim/latest/ubuntu bionic/main amd64 Packages [1,391 B]\n",
            "Fetched 17.3 kB in 2s (10.0 kB/s)\n",
            "Reading package lists...\n",
            "Hit:1 http://security.ubuntu.com/ubuntu bionic-security InRelease\n",
            "Hit:2 http://archive.ubuntu.com/ubuntu bionic InRelease\n",
            "Hit:3 https://cloud.r-project.org/bin/linux/ubuntu bionic-cran40/ InRelease\n",
            "Hit:4 http://archive.ubuntu.com/ubuntu bionic-updates InRelease\n",
            "Hit:5 http://archive.ubuntu.com/ubuntu bionic-backports InRelease\n",
            "Ign:6 https://developer.download.nvidia.com/compute/machine-learning/repos/ubuntu1804/x86_64  InRelease\n",
            "Hit:7 https://developer.download.nvidia.com/compute/cuda/repos/ubuntu1804/x86_64  InRelease\n",
            "Hit:8 https://developer.download.nvidia.com/compute/machine-learning/repos/ubuntu1804/x86_64  Release\n",
            "Hit:9 http://ppa.launchpad.net/c2d4u.team/c2d4u4.0+/ubuntu bionic InRelease\n",
            "Hit:10 http://ppa.launchpad.net/cran/libgit2/ubuntu bionic InRelease\n",
            "Hit:12 http://ppa.launchpad.net/deadsnakes/ppa/ubuntu bionic InRelease\n",
            "Hit:13 http://ppa.launchpad.net/gladky-anton/lammps/ubuntu bionic InRelease\n",
            "Hit:14 http://ppa.launchpad.net/graphics-drivers/ppa/ubuntu bionic InRelease\n",
            "Hit:15 http://ppa.launchpad.net/openkim/latest/ubuntu bionic InRelease\n",
            "Reading package lists...\n",
            "Building dependency tree...\n",
            "Reading state information...\n",
            "5 packages can be upgraded. Run 'apt list --upgradable' to see them.\n"
          ]
        },
        {
          "output_type": "stream",
          "name": "stderr",
          "text": [
            "\n",
            "WARNING: apt does not have a stable CLI interface. Use with caution in scripts.\n",
            "\n"
          ]
        }
      ]
    },
    {
      "cell_type": "code",
      "source": [
        "%%bash\n",
        "sudo apt-get install lammps-stable lammps-stable-doc lammps-stable-data openkim-models"
      ],
      "metadata": {
        "colab": {
          "base_uri": "https://localhost:8080/"
        },
        "id": "206cdPChY5Zm",
        "outputId": "c10ae909-ef24-4ac9-91f4-ef9648d99506"
      },
      "execution_count": null,
      "outputs": [
        {
          "output_type": "stream",
          "name": "stdout",
          "text": [
            "Reading package lists...\n",
            "Building dependency tree...\n",
            "Reading state information...\n",
            "The following package was automatically installed and is no longer required:\n",
            "  libnvidia-common-460\n",
            "Use 'sudo apt autoremove' to remove it.\n",
            "The following additional packages will be installed:\n",
            "  fonts-mathjax javascript-common libjs-jquery libjs-mathjax libjs-underscore\n",
            "  libkim-api2 libvoro++1\n",
            "Suggested packages:\n",
            "  apache2 | lighttpd | httpd fonts-mathjax-extras fonts-stix libjs-mathjax-doc\n",
            "The following NEW packages will be installed:\n",
            "  fonts-mathjax javascript-common lammps-stable lammps-stable-data\n",
            "  lammps-stable-doc libjs-jquery libjs-mathjax libjs-underscore libkim-api2\n",
            "  libvoro++1 openkim-models\n",
            "0 upgraded, 11 newly installed, 0 to remove and 20 not upgraded.\n",
            "Need to get 123 MB of archives.\n",
            "After this operation, 503 MB of additional disk space will be used.\n",
            "Get:1 http://ppa.launchpad.net/openkim/latest/ubuntu bionic/main amd64 libkim-api2 amd64 2.2.1~202012140507~ubuntu18.04.1 [523 kB]\n",
            "Get:2 http://archive.ubuntu.com/ubuntu bionic/universe amd64 fonts-mathjax all 2.7.3+dfsg-1 [2,208 kB]\n",
            "Get:3 http://ppa.launchpad.net/gladky-anton/lammps/ubuntu bionic/main amd64 lammps-stable amd64 9~git-7~202003031527~ubuntu18.04.1 [6,436 kB]\n",
            "Get:4 http://archive.ubuntu.com/ubuntu bionic/main amd64 javascript-common all 11 [6,066 B]\n",
            "Get:5 http://archive.ubuntu.com/ubuntu bionic/universe amd64 libvoro++1 amd64 0.4.6+dfsg1-2 [116 kB]\n",
            "Get:6 http://archive.ubuntu.com/ubuntu bionic/universe amd64 libjs-mathjax all 2.7.3+dfsg-1 [5,653 kB]\n",
            "Get:7 http://archive.ubuntu.com/ubuntu bionic/main amd64 libjs-jquery all 3.2.1-1 [152 kB]\n",
            "Get:8 http://archive.ubuntu.com/ubuntu bionic-updates/main amd64 libjs-underscore all 1.8.3~dfsg-1ubuntu0.1 [60.4 kB]\n",
            "Get:9 http://ppa.launchpad.net/gladky-anton/lammps/ubuntu bionic/main amd64 lammps-stable-data all 9~git-7~202003031527~ubuntu18.04.1 [21.9 MB]\n",
            "Get:10 http://ppa.launchpad.net/gladky-anton/lammps/ubuntu bionic/main amd64 lammps-stable-doc all 9~git-7~202003031527~ubuntu18.04.1 [41.7 MB]\n",
            "Get:11 http://ppa.launchpad.net/openkim/latest/ubuntu bionic/main amd64 openkim-models amd64 1:2021.01.28-3~202104090104~ubuntu18.04.1 [44.6 MB]\n",
            "Fetched 123 MB in 7s (17.8 MB/s)\n",
            "Selecting previously unselected package fonts-mathjax.\r\n",
            "(Reading database ... \r(Reading database ... 5%\r(Reading database ... 10%\r(Reading database ... 15%\r(Reading database ... 20%\r(Reading database ... 25%\r(Reading database ... 30%\r(Reading database ... 35%\r(Reading database ... 40%\r(Reading database ... 45%\r(Reading database ... 50%\r(Reading database ... 55%\r(Reading database ... 60%\r(Reading database ... 65%\r(Reading database ... 70%\r(Reading database ... 75%\r(Reading database ... 80%\r(Reading database ... 85%\r(Reading database ... 90%\r(Reading database ... 95%\r(Reading database ... 100%\r(Reading database ... 123942 files and directories currently installed.)\r\n",
            "Preparing to unpack .../00-fonts-mathjax_2.7.3+dfsg-1_all.deb ...\r\n",
            "Unpacking fonts-mathjax (2.7.3+dfsg-1) ...\r\n",
            "Selecting previously unselected package javascript-common.\r\n",
            "Preparing to unpack .../01-javascript-common_11_all.deb ...\r\n",
            "Unpacking javascript-common (11) ...\r\n",
            "Selecting previously unselected package libkim-api2:amd64.\r\n",
            "Preparing to unpack .../02-libkim-api2_2.2.1~202012140507~ubuntu18.04.1_amd64.deb ...\r\n",
            "Unpacking libkim-api2:amd64 (2.2.1~202012140507~ubuntu18.04.1) ...\r\n",
            "Selecting previously unselected package libvoro++1.\r\n",
            "Preparing to unpack .../03-libvoro++1_0.4.6+dfsg1-2_amd64.deb ...\r\n",
            "Unpacking libvoro++1 (0.4.6+dfsg1-2) ...\r\n",
            "Selecting previously unselected package lammps-stable.\r\n",
            "Preparing to unpack .../04-lammps-stable_9~git-7~202003031527~ubuntu18.04.1_amd64.deb ...\r\n",
            "Unpacking lammps-stable (9~git-7~202003031527~ubuntu18.04.1) ...\r\n",
            "Selecting previously unselected package lammps-stable-data.\r\n",
            "Preparing to unpack .../05-lammps-stable-data_9~git-7~202003031527~ubuntu18.04.1_all.deb ...\r\n",
            "Unpacking lammps-stable-data (9~git-7~202003031527~ubuntu18.04.1) ...\r\n",
            "Selecting previously unselected package libjs-mathjax.\r\n",
            "Preparing to unpack .../06-libjs-mathjax_2.7.3+dfsg-1_all.deb ...\r\n",
            "Unpacking libjs-mathjax (2.7.3+dfsg-1) ...\r\n",
            "Selecting previously unselected package libjs-jquery.\r\n",
            "Preparing to unpack .../07-libjs-jquery_3.2.1-1_all.deb ...\r\n",
            "Unpacking libjs-jquery (3.2.1-1) ...\r\n",
            "Selecting previously unselected package libjs-underscore.\r\n",
            "Preparing to unpack .../08-libjs-underscore_1.8.3~dfsg-1ubuntu0.1_all.deb ...\r\n",
            "Unpacking libjs-underscore (1.8.3~dfsg-1ubuntu0.1) ...\r\n",
            "Selecting previously unselected package lammps-stable-doc.\r\n",
            "Preparing to unpack .../09-lammps-stable-doc_9~git-7~202003031527~ubuntu18.04.1_all.deb ...\r\n",
            "Unpacking lammps-stable-doc (9~git-7~202003031527~ubuntu18.04.1) ...\r\n",
            "Selecting previously unselected package openkim-models.\r\n",
            "Preparing to unpack .../10-openkim-models_1%3a2021.01.28-3~202104090104~ubuntu18.04.1_amd64.deb ...\r\n",
            "Unpacking openkim-models (1:2021.01.28-3~202104090104~ubuntu18.04.1) ...\r\n",
            "Setting up libjs-jquery (3.2.1-1) ...\r\n",
            "Setting up fonts-mathjax (2.7.3+dfsg-1) ...\r\n",
            "Setting up libjs-underscore (1.8.3~dfsg-1ubuntu0.1) ...\r\n",
            "Setting up libjs-mathjax (2.7.3+dfsg-1) ...\r\n",
            "Setting up lammps-stable-data (9~git-7~202003031527~ubuntu18.04.1) ...\r\n",
            "Setting up libvoro++1 (0.4.6+dfsg1-2) ...\r\n",
            "Setting up javascript-common (11) ...\r\n",
            "Setting up libkim-api2:amd64 (2.2.1~202012140507~ubuntu18.04.1) ...\r\n",
            "Setting up lammps-stable-doc (9~git-7~202003031527~ubuntu18.04.1) ...\r\n",
            "Setting up openkim-models (1:2021.01.28-3~202104090104~ubuntu18.04.1) ...\r\n",
            "Setting up lammps-stable (9~git-7~202003031527~ubuntu18.04.1) ...\r\n",
            "Processing triggers for fontconfig (2.12.6-0ubuntu2) ...\r\n",
            "Processing triggers for libc-bin (2.27-3ubuntu1.6) ...\r\n",
            "Processing triggers for man-db (2.8.3-2ubuntu0.1) ...\r\n"
          ]
        },
        {
          "output_type": "stream",
          "name": "stderr",
          "text": [
            "debconf: unable to initialize frontend: Dialog\n",
            "debconf: (No usable dialog-like program is installed, so the dialog based frontend cannot be used. at /usr/share/perl5/Debconf/FrontEnd/Dialog.pm line 76, <> line 11.)\n",
            "debconf: falling back to frontend: Readline\n",
            "debconf: unable to initialize frontend: Readline\n",
            "debconf: (This frontend requires a controlling tty.)\n",
            "debconf: falling back to frontend: Teletype\n",
            "dpkg-preconfigure: unable to re-open stdin: \n"
          ]
        }
      ]
    },
    {
      "cell_type": "code",
      "source": [
        "%%bash\n",
        "sudo mpirun --allow-run-as-root -np 2 ./hello_world"
      ],
      "metadata": {
        "colab": {
          "base_uri": "https://localhost:8080/",
          "height": 542
        },
        "id": "5GMQAaLjZ_3i",
        "outputId": "b767eb3c-73ae-42f1-f3a0-5eb1b04c9ad4"
      },
      "execution_count": 9,
      "outputs": [
        {
          "output_type": "stream",
          "name": "stdout",
          "text": [
            "--------------------------------------------------------------------------\n",
            "mpirun was unable to launch the specified application as it could not access\n",
            "or execute an executable:\n",
            "\n",
            "Executable: ./hello_world\n",
            "Node: 007c58c9d600\n",
            "\n",
            "while attempting to start process rank 0.\n",
            "--------------------------------------------------------------------------\n",
            "2 total processes failed to start\n"
          ]
        },
        {
          "output_type": "error",
          "ename": "CalledProcessError",
          "evalue": "ignored",
          "traceback": [
            "\u001b[0;31m---------------------------------------------------------------------------\u001b[0m",
            "\u001b[0;31mCalledProcessError\u001b[0m                        Traceback (most recent call last)",
            "\u001b[0;32m<ipython-input-9-025754919e30>\u001b[0m in \u001b[0;36m<module>\u001b[0;34m\u001b[0m\n\u001b[0;32m----> 1\u001b[0;31m \u001b[0mget_ipython\u001b[0m\u001b[0;34m(\u001b[0m\u001b[0;34m)\u001b[0m\u001b[0;34m.\u001b[0m\u001b[0mrun_cell_magic\u001b[0m\u001b[0;34m(\u001b[0m\u001b[0;34m'bash'\u001b[0m\u001b[0;34m,\u001b[0m \u001b[0;34m''\u001b[0m\u001b[0;34m,\u001b[0m \u001b[0;34m'sudo mpirun --allow-run-as-root -np 2 ./hello_world\\n'\u001b[0m\u001b[0;34m)\u001b[0m\u001b[0;34m\u001b[0m\u001b[0;34m\u001b[0m\u001b[0m\n\u001b[0m",
            "\u001b[0;32m/usr/local/lib/python3.7/dist-packages/IPython/core/interactiveshell.py\u001b[0m in \u001b[0;36mrun_cell_magic\u001b[0;34m(self, magic_name, line, cell)\u001b[0m\n\u001b[1;32m   2357\u001b[0m             \u001b[0;32mwith\u001b[0m \u001b[0mself\u001b[0m\u001b[0;34m.\u001b[0m\u001b[0mbuiltin_trap\u001b[0m\u001b[0;34m:\u001b[0m\u001b[0;34m\u001b[0m\u001b[0;34m\u001b[0m\u001b[0m\n\u001b[1;32m   2358\u001b[0m                 \u001b[0margs\u001b[0m \u001b[0;34m=\u001b[0m \u001b[0;34m(\u001b[0m\u001b[0mmagic_arg_s\u001b[0m\u001b[0;34m,\u001b[0m \u001b[0mcell\u001b[0m\u001b[0;34m)\u001b[0m\u001b[0;34m\u001b[0m\u001b[0;34m\u001b[0m\u001b[0m\n\u001b[0;32m-> 2359\u001b[0;31m                 \u001b[0mresult\u001b[0m \u001b[0;34m=\u001b[0m \u001b[0mfn\u001b[0m\u001b[0;34m(\u001b[0m\u001b[0;34m*\u001b[0m\u001b[0margs\u001b[0m\u001b[0;34m,\u001b[0m \u001b[0;34m**\u001b[0m\u001b[0mkwargs\u001b[0m\u001b[0;34m)\u001b[0m\u001b[0;34m\u001b[0m\u001b[0;34m\u001b[0m\u001b[0m\n\u001b[0m\u001b[1;32m   2360\u001b[0m             \u001b[0;32mreturn\u001b[0m \u001b[0mresult\u001b[0m\u001b[0;34m\u001b[0m\u001b[0;34m\u001b[0m\u001b[0m\n\u001b[1;32m   2361\u001b[0m \u001b[0;34m\u001b[0m\u001b[0m\n",
            "\u001b[0;32m/usr/local/lib/python3.7/dist-packages/IPython/core/magics/script.py\u001b[0m in \u001b[0;36mnamed_script_magic\u001b[0;34m(line, cell)\u001b[0m\n\u001b[1;32m    140\u001b[0m             \u001b[0;32melse\u001b[0m\u001b[0;34m:\u001b[0m\u001b[0;34m\u001b[0m\u001b[0;34m\u001b[0m\u001b[0m\n\u001b[1;32m    141\u001b[0m                 \u001b[0mline\u001b[0m \u001b[0;34m=\u001b[0m \u001b[0mscript\u001b[0m\u001b[0;34m\u001b[0m\u001b[0;34m\u001b[0m\u001b[0m\n\u001b[0;32m--> 142\u001b[0;31m             \u001b[0;32mreturn\u001b[0m \u001b[0mself\u001b[0m\u001b[0;34m.\u001b[0m\u001b[0mshebang\u001b[0m\u001b[0;34m(\u001b[0m\u001b[0mline\u001b[0m\u001b[0;34m,\u001b[0m \u001b[0mcell\u001b[0m\u001b[0;34m)\u001b[0m\u001b[0;34m\u001b[0m\u001b[0;34m\u001b[0m\u001b[0m\n\u001b[0m\u001b[1;32m    143\u001b[0m \u001b[0;34m\u001b[0m\u001b[0m\n\u001b[1;32m    144\u001b[0m         \u001b[0;31m# write a basic docstring:\u001b[0m\u001b[0;34m\u001b[0m\u001b[0;34m\u001b[0m\u001b[0;34m\u001b[0m\u001b[0m\n",
            "\u001b[0;32m<decorator-gen-103>\u001b[0m in \u001b[0;36mshebang\u001b[0;34m(self, line, cell)\u001b[0m\n",
            "\u001b[0;32m/usr/local/lib/python3.7/dist-packages/IPython/core/magic.py\u001b[0m in \u001b[0;36m<lambda>\u001b[0;34m(f, *a, **k)\u001b[0m\n\u001b[1;32m    185\u001b[0m     \u001b[0;31m# but it's overkill for just that one bit of state.\u001b[0m\u001b[0;34m\u001b[0m\u001b[0;34m\u001b[0m\u001b[0;34m\u001b[0m\u001b[0m\n\u001b[1;32m    186\u001b[0m     \u001b[0;32mdef\u001b[0m \u001b[0mmagic_deco\u001b[0m\u001b[0;34m(\u001b[0m\u001b[0marg\u001b[0m\u001b[0;34m)\u001b[0m\u001b[0;34m:\u001b[0m\u001b[0;34m\u001b[0m\u001b[0;34m\u001b[0m\u001b[0m\n\u001b[0;32m--> 187\u001b[0;31m         \u001b[0mcall\u001b[0m \u001b[0;34m=\u001b[0m \u001b[0;32mlambda\u001b[0m \u001b[0mf\u001b[0m\u001b[0;34m,\u001b[0m \u001b[0;34m*\u001b[0m\u001b[0ma\u001b[0m\u001b[0;34m,\u001b[0m \u001b[0;34m**\u001b[0m\u001b[0mk\u001b[0m\u001b[0;34m:\u001b[0m \u001b[0mf\u001b[0m\u001b[0;34m(\u001b[0m\u001b[0;34m*\u001b[0m\u001b[0ma\u001b[0m\u001b[0;34m,\u001b[0m \u001b[0;34m**\u001b[0m\u001b[0mk\u001b[0m\u001b[0;34m)\u001b[0m\u001b[0;34m\u001b[0m\u001b[0;34m\u001b[0m\u001b[0m\n\u001b[0m\u001b[1;32m    188\u001b[0m \u001b[0;34m\u001b[0m\u001b[0m\n\u001b[1;32m    189\u001b[0m         \u001b[0;32mif\u001b[0m \u001b[0mcallable\u001b[0m\u001b[0;34m(\u001b[0m\u001b[0marg\u001b[0m\u001b[0;34m)\u001b[0m\u001b[0;34m:\u001b[0m\u001b[0;34m\u001b[0m\u001b[0;34m\u001b[0m\u001b[0m\n",
            "\u001b[0;32m/usr/local/lib/python3.7/dist-packages/IPython/core/magics/script.py\u001b[0m in \u001b[0;36mshebang\u001b[0;34m(self, line, cell)\u001b[0m\n\u001b[1;32m    243\u001b[0m             \u001b[0msys\u001b[0m\u001b[0;34m.\u001b[0m\u001b[0mstderr\u001b[0m\u001b[0;34m.\u001b[0m\u001b[0mflush\u001b[0m\u001b[0;34m(\u001b[0m\u001b[0;34m)\u001b[0m\u001b[0;34m\u001b[0m\u001b[0;34m\u001b[0m\u001b[0m\n\u001b[1;32m    244\u001b[0m         \u001b[0;32mif\u001b[0m \u001b[0margs\u001b[0m\u001b[0;34m.\u001b[0m\u001b[0mraise_error\u001b[0m \u001b[0;32mand\u001b[0m \u001b[0mp\u001b[0m\u001b[0;34m.\u001b[0m\u001b[0mreturncode\u001b[0m\u001b[0;34m!=\u001b[0m\u001b[0;36m0\u001b[0m\u001b[0;34m:\u001b[0m\u001b[0;34m\u001b[0m\u001b[0;34m\u001b[0m\u001b[0m\n\u001b[0;32m--> 245\u001b[0;31m             \u001b[0;32mraise\u001b[0m \u001b[0mCalledProcessError\u001b[0m\u001b[0;34m(\u001b[0m\u001b[0mp\u001b[0m\u001b[0;34m.\u001b[0m\u001b[0mreturncode\u001b[0m\u001b[0;34m,\u001b[0m \u001b[0mcell\u001b[0m\u001b[0;34m,\u001b[0m \u001b[0moutput\u001b[0m\u001b[0;34m=\u001b[0m\u001b[0mout\u001b[0m\u001b[0;34m,\u001b[0m \u001b[0mstderr\u001b[0m\u001b[0;34m=\u001b[0m\u001b[0merr\u001b[0m\u001b[0;34m)\u001b[0m\u001b[0;34m\u001b[0m\u001b[0;34m\u001b[0m\u001b[0m\n\u001b[0m\u001b[1;32m    246\u001b[0m \u001b[0;34m\u001b[0m\u001b[0m\n\u001b[1;32m    247\u001b[0m     \u001b[0;32mdef\u001b[0m \u001b[0m_run_script\u001b[0m\u001b[0;34m(\u001b[0m\u001b[0mself\u001b[0m\u001b[0;34m,\u001b[0m \u001b[0mp\u001b[0m\u001b[0;34m,\u001b[0m \u001b[0mcell\u001b[0m\u001b[0;34m,\u001b[0m \u001b[0mto_close\u001b[0m\u001b[0;34m)\u001b[0m\u001b[0;34m:\u001b[0m\u001b[0;34m\u001b[0m\u001b[0;34m\u001b[0m\u001b[0m\n",
            "\u001b[0;31mCalledProcessError\u001b[0m: Command 'b'sudo mpirun --allow-run-as-root -np 2 ./hello_world\\n'' returned non-zero exit status 132."
          ]
        }
      ]
    },
    {
      "cell_type": "code",
      "source": [
        "\n"
      ],
      "metadata": {
        "colab": {
          "base_uri": "https://localhost:8080/"
        },
        "id": "w6lhodlDf-sV",
        "outputId": "afd174ae-0f83-4f60-921b-a6af9d02cd1d"
      },
      "execution_count": null,
      "outputs": [
        {
          "output_type": "stream",
          "name": "stdout",
          "text": [
            "/bin/bash: -n: command not found\n"
          ]
        }
      ]
    },
    {
      "cell_type": "code",
      "source": [
        "%%writefile MPI_Type_indexed.c\n",
        " #include \"mpi.h\"\n",
        "   #include <stdio.h>\n",
        "   #define NELEMENTS 32\n",
        "\n",
        "   main(int argc, char *argv[])  {\n",
        "   int numtasks, rank, source=0, dest, tag=1, i;\n",
        "   int blocklengths[2], displacements[2];\n",
        "   float a[16] = {1.0, 2.0, 3.0, 4.0, 5.0, 6.0, 7.0, 8.0, 9.0, 10.0, 11.0, 12.0, 13.0, 14.0, 15.0, 16.0};\n",
        "   float b[NELEMENTS]; \n",
        "\n",
        "   MPI_Status stat;\n",
        "   MPI_Datatype indextype;   // required variable\n",
        "\n",
        "   MPI_Init(&argc,&argv);\n",
        "   MPI_Comm_rank(MPI_COMM_WORLD, &rank);\n",
        "   MPI_Comm_size(MPI_COMM_WORLD, &numtasks);\n",
        "   double t1, t2; \n",
        "   t1 = MPI_Wtime();\n",
        "   blocklengths[0] = 4; /*take 4 elements from the array*/\n",
        "   blocklengths[1] = 2; /*take 2 elemnets from the array*/\n",
        "   displacements[0] = 5;/*start from the element index 5 the first block that is 6.0 */\n",
        "   displacements[1] = 12;/*start from the element index 12  the first block that is 13.0 */\n",
        "   \n",
        "   // create indexed derived data type\n",
        "   MPI_Type_indexed(2, blocklengths, displacements, MPI_FLOAT, &indextype);\n",
        "   MPI_Type_commit(&indextype);\n",
        "\n",
        "   if (rank == 0) {\n",
        "     for (i=0; i<numtasks; i++) \n",
        "      // task 0 sends one element of indextype to all tasks\n",
        "        MPI_Send(a, 1, indextype, i, tag, MPI_COMM_WORLD);\n",
        "     }\n",
        "\n",
        "   // all tasks receive indextype data from task 0\n",
        "   MPI_Recv(b, NELEMENTS, MPI_FLOAT, source, tag, MPI_COMM_WORLD, &stat);\n",
        "   t2 = MPI_Wtime(); \n",
        "   printf( \"Elapsed time is %f\\n\", t2 - t1 ); \n",
        "   printf(\"rank= %d  b= %3.1f %3.1f %3.1f %3.1f %3.1f %3.1f\\n\",\n",
        "          rank,b[0],b[1],b[2],b[3],b[4],b[5]);\n",
        "   \n",
        "   // free datatype when done using it\n",
        "   MPI_Type_free(&indextype);\n",
        "   MPI_Finalize();\n",
        "   }"
      ],
      "metadata": {
        "colab": {
          "base_uri": "https://localhost:8080/"
        },
        "id": "HQ3DeE0Y8NXJ",
        "outputId": "b7543b2e-d7b4-4afb-e7cf-6afcdadf97e6"
      },
      "execution_count": 10,
      "outputs": [
        {
          "output_type": "stream",
          "name": "stdout",
          "text": [
            "Writing MPI_Type_indexed.c\n"
          ]
        }
      ]
    },
    {
      "cell_type": "code",
      "source": [
        "%%bash\n",
        "mpicc MPI_Type_indexed.c -o MPI_Type_indexed"
      ],
      "metadata": {
        "id": "By_keR9wavA7",
        "colab": {
          "base_uri": "https://localhost:8080/"
        },
        "outputId": "7a8e3697-4c57-4184-8b61-2abeb8f6d23e"
      },
      "execution_count": 11,
      "outputs": [
        {
          "output_type": "stream",
          "name": "stderr",
          "text": [
            "MPI_Type_indexed.c:5:4: warning: return type defaults to ‘int’ [-Wimplicit-int]\n",
            "    main(int argc, char *argv[])  {\n",
            "    ^~~~\n"
          ]
        }
      ]
    },
    {
      "cell_type": "code",
      "source": [
        "!mpirun -n 2 --allow-run-as-root MPI_Type_indexed"
      ],
      "metadata": {
        "colab": {
          "base_uri": "https://localhost:8080/"
        },
        "id": "XW3o2wzVk9PE",
        "outputId": "46983a5b-a8f3-497d-aff2-0d5bd7489ee9"
      },
      "execution_count": 12,
      "outputs": [
        {
          "output_type": "stream",
          "name": "stdout",
          "text": [
            "Elapsed time is 0.000036\n",
            "rank= 0  b= 6.0 7.0 8.0 9.0 13.0 14.0\n",
            "Elapsed time is 0.000142\n",
            "rank= 1  b= 6.0 7.0 8.0 9.0 13.0 14.0\n"
          ]
        }
      ]
    },
    {
      "cell_type": "code",
      "source": [
        "%%writefile MPI_Type_contiguous.c\n",
        "#include \"mpi.h\"\n",
        "#include <stdio.h>\n",
        " \n",
        "int main(int argc, char *argv[])\n",
        "{\n",
        "    int myrank;\n",
        "    MPI_Status status;\n",
        "    MPI_Datatype type;\n",
        "    int buffer[800];\n",
        " \n",
        "    MPI_Init(&argc, &argv);\n",
        " \n",
        "    MPI_Type_contiguous( 800, MPI_CHAR, &type );\n",
        "    double t1, t2; \n",
        "    t1 = MPI_Wtime();\n",
        "    MPI_Type_commit(&type);\n",
        "    \n",
        "    MPI_Comm_rank(MPI_COMM_WORLD, &myrank);\n",
        " \n",
        "    if (myrank == 0)\n",
        "    {\n",
        "        MPI_Send(buffer, 1, type, 1, 123, MPI_COMM_WORLD);\n",
        "        t2 = MPI_Wtime(); \n",
        "   printf( \"Elapsed time is %f\\n\", t2 - t1 );\n",
        "    }\n",
        "    else if (myrank == 1)\n",
        "    {\n",
        "        MPI_Recv(buffer, 1, type, 0, 123, MPI_COMM_WORLD, &status);\n",
        "        t2 = MPI_Wtime(); \n",
        "   printf( \"Elapsed time is %f\\n\", t2 - t1 );\n",
        "    }\n",
        " \n",
        "    MPI_Finalize();\n",
        "    return 0;\n",
        "}"
      ],
      "metadata": {
        "colab": {
          "base_uri": "https://localhost:8080/"
        },
        "id": "j9iMYahm8x63",
        "outputId": "62d3bb63-559e-4d1e-ca3a-d613c4bcda0e"
      },
      "execution_count": 13,
      "outputs": [
        {
          "output_type": "stream",
          "name": "stdout",
          "text": [
            "Writing MPI_Type_contiguous.c\n"
          ]
        }
      ]
    },
    {
      "cell_type": "code",
      "source": [
        "%%bash\n",
        "mpicc MPI_Type_contiguous.c -o MPI_Type_contiguous"
      ],
      "metadata": {
        "id": "WPPnnYuQ90Jc"
      },
      "execution_count": 14,
      "outputs": []
    },
    {
      "cell_type": "code",
      "source": [
        "!mpirun -n 2 --allow-run-as-root MPI_Type_contiguous"
      ],
      "metadata": {
        "colab": {
          "base_uri": "https://localhost:8080/"
        },
        "id": "fuAJhi1p99KS",
        "outputId": "e9f2f119-6dea-4b05-ffeb-f70723a2a851"
      },
      "execution_count": 15,
      "outputs": [
        {
          "output_type": "stream",
          "name": "stdout",
          "text": [
            "Elapsed time is 0.000021\n",
            "Elapsed time is 0.000034\n"
          ]
        }
      ]
    },
    {
      "cell_type": "code",
      "source": [
        "%%writefile MPI_Type_vector.c\n",
        "#include \"mpi.h\"\n",
        "#include <stdio.h>\n",
        "#include <stdlib.h>\n",
        "#define SIZE 2\n",
        "\n",
        "\n",
        "int main (int argc, char *argv[])\n",
        "{\n",
        "    int numtasks, rank, source=0, dest, tag=1, i;\n",
        "    float a[SIZE][SIZE] =\n",
        "    {10000.0, 20000.0, \n",
        "     30000.0, 40000.0, };\n",
        "    float b[SIZE];\n",
        "\n",
        "    MPI_Status stat;\n",
        "     \n",
        "    MPI_Datatype columntype;\n",
        "\n",
        "    MPI_Init(&argc,&argv);\n",
        "    \n",
        "    MPI_Comm_rank(MPI_COMM_WORLD, &rank);\n",
        "    \n",
        "    MPI_Comm_size(MPI_COMM_WORLD, &numtasks);\n",
        "    \n",
        "    double t1, t2; \n",
        "    t1 = MPI_Wtime();\n",
        "    MPI_Type_vector(SIZE/*num of element in a column*/,\n",
        "                     1 /*one element for row*/, \n",
        "                    SIZE /*take an element each 4*/, MPI_FLOAT, &columntype);\n",
        "                    \n",
        "    MPI_Type_commit(&columntype);\n",
        "    \n",
        "\n",
        "    if (numtasks == SIZE) {\n",
        "    if (rank == 0) {\n",
        "        for (i=0; i<numtasks; i++)\n",
        "       \n",
        "        MPI_Send(&a[0][i], 1, columntype, i, tag, MPI_COMM_WORLD);\n",
        "            }\n",
        "\n",
        "    MPI_Recv(b, SIZE, MPI_FLOAT, source, tag, MPI_COMM_WORLD, &stat);\n",
        "     \n",
        "    printf(\"rank= %d  b= %3.1f %3.1f\\n\",\n",
        "            rank,b[0],b[1]);\n",
        "            t2 = MPI_Wtime(); \n",
        "            printf( \"Elapsed time is %f\\n\", t2 - t1 );\n",
        "    }\n",
        "    else\n",
        "    printf(\"Must specify %d processors. Terminating.\\n\",SIZE);\n",
        "\n",
        "    MPI_Type_free(&columntype);\n",
        "    MPI_Finalize();\n",
        "}"
      ],
      "metadata": {
        "colab": {
          "base_uri": "https://localhost:8080/"
        },
        "id": "rimb6G9r3O2C",
        "outputId": "edc4c17f-d00d-4b4c-c8ba-0a0a53be104d"
      },
      "execution_count": 17,
      "outputs": [
        {
          "output_type": "stream",
          "name": "stdout",
          "text": [
            "Overwriting MPI_Type_vector.c\n"
          ]
        }
      ]
    },
    {
      "cell_type": "code",
      "source": [
        "%%bash\n",
        "mpicc MPI_Type_vector.c -o MPI_Type_vector"
      ],
      "metadata": {
        "id": "iIT9_u7R3eD4"
      },
      "execution_count": 18,
      "outputs": []
    },
    {
      "cell_type": "code",
      "source": [
        "!mpirun -n 2 --allow-run-as-root MPI_Type_vector"
      ],
      "metadata": {
        "colab": {
          "base_uri": "https://localhost:8080/"
        },
        "id": "o6hHLZFK4cS6",
        "outputId": "b79c6c92-19d3-4bc6-ce52-0fdaa88e81ce"
      },
      "execution_count": 19,
      "outputs": [
        {
          "output_type": "stream",
          "name": "stdout",
          "text": [
            "rank= 0  b= 10000.0 30000.0\n",
            "Elapsed time is 0.000083\n",
            "rank= 1  b= 20000.0 40000.0\n",
            "Elapsed time is 0.000067\n"
          ]
        }
      ]
    },
    {
      "cell_type": "code",
      "source": [
        "%%writefile MPI_Type_index.c\n",
        "#include \"mpi.h\"\n",
        "   #include <stdio.h>\n",
        "   #define NELEM 15\n",
        "\n",
        "   main(int argc, char *argv[])  {\n",
        "   int numtasks, rank, source=0, dest, tag=1, i;\n",
        "\n",
        "   typedef struct {\n",
        "     float x, y, z;\n",
        "     float velocity;\n",
        "     int  n, type;\n",
        "     }          Particle;\n",
        "   Particle     p[NELEM], particles[NELEM];\n",
        "   MPI_Datatype particletype, oldtypes[2];   // required variables\n",
        "   int          blockcounts[2];\n",
        "\n",
        "   // MPI_Aint type used to be consistent with syntax of\n",
        "   // MPI_Type_extent routine\n",
        "   MPI_Aint    offsets[2], lb, extent;\n",
        "\n",
        "   MPI_Status stat;\n",
        "\n",
        "   MPI_Init(&argc,&argv);\n",
        "   double t1, t2; \n",
        "    t1 = MPI_Wtime();\n",
        "   MPI_Comm_rank(MPI_COMM_WORLD, &rank);\n",
        "   MPI_Comm_size(MPI_COMM_WORLD, &numtasks);\n",
        " \n",
        "   // setup description of the 4 MPI_FLOAT fields x, y, z, velocity\n",
        "   offsets[0] = 0;\n",
        "   oldtypes[0] = MPI_FLOAT;\n",
        "   blockcounts[0] = 4;\n",
        "\n",
        "   // setup description of the 2 MPI_INT fields n, type\n",
        "   // need to first figure offset by getting size of MPI_FLOAT\n",
        "   MPI_Type_get_extent(MPI_FLOAT, &lb, &extent);\n",
        "   offsets[1] = 4 * extent;\n",
        "   oldtypes[1] = MPI_INT;\n",
        "   blockcounts[1] = 2;\n",
        "\n",
        "   // define structured type and commit it\n",
        "   MPI_Type_create_struct(2, blockcounts, offsets, oldtypes, &particletype);\n",
        "   MPI_Type_commit(&particletype);\n",
        "\n",
        "   // task 0 initializes the particle array and then sends it to each task\n",
        "   if (rank == 0) {\n",
        "     for (i=0; i<NELEM; i++) {\n",
        "        particles[i].x = i * 1.0;\n",
        "        particles[i].y = i * -1.0;\n",
        "        particles[i].z = i * 1.0; \n",
        "        particles[i].velocity = 0.25;\n",
        "        particles[i].n = i;\n",
        "        particles[i].type = i % 2; \n",
        "        }\n",
        "     for (i=0; i<numtasks; i++) \n",
        "        MPI_Send(particles, NELEM, particletype, i, tag, MPI_COMM_WORLD);\n",
        "     }\n",
        " \n",
        "   // all tasks receive particletype data\n",
        "   MPI_Recv(p, NELEM, particletype, source, tag, MPI_COMM_WORLD, &stat);\n",
        "\n",
        "   printf(\"rank= %d   %3.2f %3.2f %3.2f %3.2f %d %d\\n\", rank,p[3].x,\n",
        "        p[3].y,p[3].z,p[3].velocity,p[3].n,p[3].type);\n",
        "        t2 = MPI_Wtime();\n",
        "        printf( \"Elapsed time is %f\\n\", t2 - t1 );\n",
        "\n",
        "   // free datatype when done using it\n",
        "   MPI_Type_free(&particletype);\n",
        "   MPI_Finalize();\n",
        "   }"
      ],
      "metadata": {
        "colab": {
          "base_uri": "https://localhost:8080/"
        },
        "id": "M-vVPSrN8vVk",
        "outputId": "b03a60ed-0afe-4063-a2fe-0878dd4a9310"
      },
      "execution_count": 20,
      "outputs": [
        {
          "output_type": "stream",
          "name": "stdout",
          "text": [
            "Writing MPI_Type_index.c\n"
          ]
        }
      ]
    },
    {
      "cell_type": "code",
      "source": [
        "!mpicc MPI_Type_struct.c -o MPI_Type_struct"
      ],
      "metadata": {
        "colab": {
          "base_uri": "https://localhost:8080/"
        },
        "id": "63Fz-_aE9oM7",
        "outputId": "cdf08dd8-6616-42e8-b480-830505022529"
      },
      "execution_count": 21,
      "outputs": [
        {
          "output_type": "stream",
          "name": "stdout",
          "text": [
            "\u001b[01m\u001b[Kgcc:\u001b[m\u001b[K \u001b[01;31m\u001b[Kerror: \u001b[m\u001b[KMPI_Type_struct.c: No such file or directory\n"
          ]
        }
      ]
    },
    {
      "cell_type": "code",
      "source": [
        "!mpirun -n 2 --allow-run-as-root MPI_Type_struct"
      ],
      "metadata": {
        "colab": {
          "base_uri": "https://localhost:8080/"
        },
        "id": "i1aXCB0w9o8i",
        "outputId": "bf8f3779-ed75-4208-ecd7-1045d2a2f03e"
      },
      "execution_count": 22,
      "outputs": [
        {
          "output_type": "stream",
          "name": "stdout",
          "text": [
            "--------------------------------------------------------------------------\n",
            "mpirun was unable to find the specified executable file, and therefore\n",
            "did not launch the job.  This error was first reported for process\n",
            "rank 0; it may have occurred for other processes as well.\n",
            "\n",
            "NOTE: A common cause for this error is misspelling a mpirun command\n",
            "      line parameter option (remember that mpirun interprets the first\n",
            "      unrecognized command line token as the executable).\n",
            "\n",
            "Node:       007c58c9d600\n",
            "Executable: MPI_Type_struct\n",
            "--------------------------------------------------------------------------\n",
            "2 total processes failed to start\n"
          ]
        }
      ]
    },
    {
      "cell_type": "code",
      "source": [
        "%%writefile MPI_Bcast.c\n",
        "\n",
        "\n",
        "\n",
        "#include <stdio.h>\n",
        "#include \"mpi.h\"\n",
        "\n",
        "int main(int argc, char** argv) {\n",
        "\n",
        "        int rank;\n",
        "        int data=0;\n",
        "        const int root=0;\n",
        "\n",
        "        MPI_Init(&argc, &argv);\n",
        "        double t1, t2; \n",
        "t1 = MPI_Wtime();\n",
        "        MPI_Comm_rank(MPI_COMM_WORLD, &rank);\n",
        "\n",
        "        if(rank == root) {\n",
        "           data = 1000;\n",
        "        }\n",
        "\n",
        "        \n",
        "\n",
        "        /* everyone calls bcast, data is taken from root and ends up in everyone's data */\n",
        "        MPI_Bcast(&data, 1, MPI_INT, root, MPI_COMM_WORLD);\n",
        "        t2 = MPI_Wtime();\n",
        "printf( \"Elapsed time is %f\\n\", t2 - t1 );\n",
        " \n",
        "        printf(\"[Process %d]: After Bcast, data is %d\\n\", rank, data);\n",
        "\n",
        "        MPI_Finalize();\n",
        "        return 0;\n",
        "}"
      ],
      "metadata": {
        "id": "-NPQIWvP_V59",
        "colab": {
          "base_uri": "https://localhost:8080/"
        },
        "outputId": "b7f9d401-6a33-4874-b94e-1ac720936253"
      },
      "execution_count": 23,
      "outputs": [
        {
          "output_type": "stream",
          "name": "stdout",
          "text": [
            "Writing MPI_Bcast.c\n"
          ]
        }
      ]
    },
    {
      "cell_type": "code",
      "source": [
        "!mpicc MPI_Bcast.c -o MPI_Bcast"
      ],
      "metadata": {
        "id": "2xw8n2KrYRae"
      },
      "execution_count": 24,
      "outputs": []
    },
    {
      "cell_type": "code",
      "source": [
        "!mpirun -n 2 --allow-run-as-root MPI_Bcast"
      ],
      "metadata": {
        "colab": {
          "base_uri": "https://localhost:8080/"
        },
        "id": "SyC56SrEYrwb",
        "outputId": "37603af5-33f2-45b4-bc91-9d519c8dae02"
      },
      "execution_count": 25,
      "outputs": [
        {
          "output_type": "stream",
          "name": "stdout",
          "text": [
            "Elapsed time is 0.000024\n",
            "[Process 0]: After Bcast, data is 1000\n",
            "Elapsed time is 0.000030\n",
            "[Process 1]: After Bcast, data is 1000\n"
          ]
        }
      ]
    },
    {
      "cell_type": "code",
      "source": [
        "%%writefile MPI_Bcast_String.c\n",
        "\n",
        "#include \"mpi.h\"\n",
        "#include <stdlib.h>\n",
        "#include <stdio.h>\n",
        "#include <string.h>\n",
        "\n",
        "#define ROOT 0\n",
        "#define NUM_REPS 5\n",
        "#define NUM_SIZES 3\n",
        "\n",
        "int main( int argc, char **argv)\n",
        "{\n",
        "    int *buf;\n",
        "    int i, rank, reps, n;\n",
        "    int bVerify = 1;\n",
        "    int sizes[NUM_SIZES] = { 100, 64*1024, 128*1024 };\n",
        "    int num_errors=0, tot_errors;\n",
        "\n",
        "    MPI_Init(&argc, &argv);\n",
        "    MPI_Comm_rank(MPI_COMM_WORLD, &rank);\n",
        "    double t1, t2; \n",
        "t1 = MPI_Wtime();\n",
        "    if (argc > 1)\n",
        "    {\n",
        "        if (strcmp(argv[1], \"-novalidate\") == 0 || strcmp(argv[1], \"-noverify\") == 0)\n",
        "            bVerify = 0;\n",
        "    }\n",
        "    buf = (int *) malloc(sizes[NUM_SIZES-1]*sizeof(int));\n",
        "    memset(buf, 0, sizes[NUM_SIZES-1]*sizeof(int));\n",
        "    for (n=0; n<NUM_SIZES; n++)\n",
        "    {\n",
        "        if (rank == ROOT)\n",
        "        {\n",
        "            printf(\"bcasting %d MPI_INTs %d times\\n\", sizes[n], NUM_REPS);\n",
        "            fflush(stdout);\n",
        "        }\n",
        "        for (reps=0; reps < NUM_REPS; reps++)\n",
        "        {\n",
        "            if (bVerify)\n",
        "            {\n",
        "                if (rank == ROOT)\n",
        "                {\n",
        "                    for (i=0; i<sizes[n]; i++)\n",
        "                    {\n",
        "                        buf[i] = 1000000 * (n * NUM_REPS + reps) + i;\n",
        "                    }\n",
        "                }\n",
        "                else\n",
        "                {\n",
        "                    for (i=0; i<sizes[n]; i++)\n",
        "                    {\n",
        "                        buf[i] = -1 - (n * NUM_REPS + reps);\n",
        "                    }\n",
        "                }\n",
        "            }\n",
        "            MPI_Bcast(buf, sizes[n], MPI_INT, ROOT, MPI_COMM_WORLD);\n",
        "            if (bVerify)\n",
        "            {\n",
        "                num_errors = 0;\n",
        "                for (i=0; i<sizes[n]; i++)\n",
        "                {\n",
        "                    if (buf[i] != 1000000 * (n * NUM_REPS + reps) + i)\n",
        "                    {\n",
        "                        num_errors++;\n",
        "                        if (num_errors < 10)\n",
        "                        {\n",
        "                           \n",
        " \n",
        "                            printf(\"Error: Rank=%d, n=%d, reps=%d, i=%d, buf[i]=%d expected=%d\\n\", rank, n, reps, i, buf[i],\n",
        "                                    1000000 * (n * NUM_REPS + reps) +i);\n",
        "                            fflush(stdout);\n",
        "                        }\n",
        "                    }\n",
        "                }\n",
        "                if (num_errors >= 10)\n",
        "                {\n",
        "                   \n",
        " \n",
        "                    printf(\"Error: Rank=%d, num_errors = %d\\n\", rank, num_errors);\n",
        "                    fflush(stdout);\n",
        "                }\n",
        "            }\n",
        "        }\n",
        "    }\n",
        " t2 = MPI_Wtime();\n",
        "printf( \"Elapsed time is %f\\n\", t2 - t1 );\n",
        " \n",
        "    MPI_Reduce( &num_errors, &tot_errors, 1, MPI_INT, MPI_SUM, 0, MPI_COMM_WORLD );\n",
        "    if (rank == 0 && tot_errors == 0)\n",
        "        \n",
        "    fflush(stdout);\n",
        "    free(buf);\n",
        "    MPI_Finalize();\n",
        "    return 0;\n",
        "}"
      ],
      "metadata": {
        "colab": {
          "base_uri": "https://localhost:8080/"
        },
        "id": "5STGf3hB6soX",
        "outputId": "b315f365-f98e-4fd4-ad85-6b7910a211c5"
      },
      "execution_count": 26,
      "outputs": [
        {
          "output_type": "stream",
          "name": "stdout",
          "text": [
            "Writing MPI_Bcast_String.c\n"
          ]
        }
      ]
    },
    {
      "cell_type": "code",
      "source": [
        "!mpicc MPI_Bcast_String.c -o MPI_Bcast_String"
      ],
      "metadata": {
        "id": "1HGU4f4Z7TGS"
      },
      "execution_count": null,
      "outputs": []
    },
    {
      "cell_type": "code",
      "source": [
        "!mpirun -n 2 --allow-run-as-root MPI_Bcast_String"
      ],
      "metadata": {
        "colab": {
          "base_uri": "https://localhost:8080/"
        },
        "id": "T0-s72EE-r2M",
        "outputId": "2f2cc23b-44c0-4d3d-c5f0-347c0160557a"
      },
      "execution_count": 28,
      "outputs": [
        {
          "output_type": "stream",
          "name": "stdout",
          "text": [
            "bcasting 100 MPI_INTs 5 times\n",
            "bcasting 65536 MPI_INTs 5 times\n",
            "bcasting 131072 MPI_INTs 5 times\n",
            "Elapsed time is 0.010887\n",
            "Elapsed time is 0.010849\n"
          ]
        }
      ]
    },
    {
      "cell_type": "code",
      "source": [
        "%%writefile MPI_Type_indexFIS.c\n",
        "\n",
        " #include \"mpi.h\"\n",
        "   #include <stdio.h>\n",
        "   #define NELEMENTS 6\n",
        "\n",
        "   main(int argc, char *argv[])  {\n",
        "   int numtasks, rank, source=0, dest, tag=1, i;\n",
        "   int blocklengths[2], displacements[2];\n",
        "   float a[16] = {1.0, 2.0, 3.0, 4.0, 5.0, 6.0, 7.0, 8.0, 9.0, 10.0, 11.0, 12.0, 13.0, 14.0, 15.0, 16.0};\n",
        "   float b[NELEMENTS]; \n",
        "   char city[7] = \"Athens\";\n",
        "\n",
        "   MPI_Status stat;\n",
        "   MPI_Datatype indextype;   // required variable\n",
        "\n",
        "   MPI_Init(&argc,&argv);\n",
        "   MPI_Comm_rank(MPI_COMM_WORLD, &rank);\n",
        "   MPI_Comm_size(MPI_COMM_WORLD, &numtasks);\n",
        "   double t1, t2; \n",
        "   t1 = MPI_Wtime();\n",
        "   blocklengths[0] = 4; \n",
        "   blocklengths[1] = 2; \n",
        "   displacements[0] = 5;\n",
        "   displacements[1] = 12;\n",
        "   \n",
        "   // create indexed derived data type\n",
        "   MPI_Type_indexed(2, blocklengths, displacements, MPI_FLOAT, &indextype,city);\n",
        "   MPI_Type_commit(&indextype);\n",
        "\n",
        "   if (rank == 0) {\n",
        "     for (i=0; i<numtasks; i++) \n",
        "      // task 0 sends one element of indextype to all tasks\n",
        "        MPI_Send(a, 1, indextype, i, tag, MPI_COMM_WORLD);\n",
        "     }\n",
        "\n",
        "   // all tasks receive indextype data from task 0\n",
        "   MPI_Recv(b, NELEMENTS, MPI_FLOAT, source, tag, MPI_COMM_WORLD, &stat,city);\n",
        "   t2 = MPI_Wtime(); \n",
        "   printf( \"Elapsed time is %f\\n\", t2 - t1 ); \n",
        "   printf(\"rank= %d  b= %3.1f %3.1f %3.1f %3.1f %3.1f %3.1f\\n\",\n",
        "          rank,b[0],b[1],b[2],b[3],b[4],b[5]);\n",
        "   \n",
        "   // free datatype when done using it\n",
        "   MPI_Type_free(&indextype);\n",
        "   MPI_Finalize();\n",
        "   }"
      ],
      "metadata": {
        "colab": {
          "base_uri": "https://localhost:8080/"
        },
        "id": "MkNIp_C9upCz",
        "outputId": "9742ffcc-4805-49f5-b08c-c8fe20ab39ba"
      },
      "execution_count": 29,
      "outputs": [
        {
          "output_type": "stream",
          "name": "stdout",
          "text": [
            "Writing MPI_Type_indexFIS.c\n"
          ]
        }
      ]
    },
    {
      "cell_type": "code",
      "source": [
        "!mpicc MPI_Type_indexFIS.c -o MPI_Type_indexFIS"
      ],
      "metadata": {
        "colab": {
          "base_uri": "https://localhost:8080/"
        },
        "id": "785qijxwxBFj",
        "outputId": "7724223b-c4e2-4e04-bbb7-ce40b405692d"
      },
      "execution_count": 30,
      "outputs": [
        {
          "output_type": "stream",
          "name": "stdout",
          "text": [
            "\u001b[01m\u001b[KMPI_Type_indexFIS.c:6:4:\u001b[m\u001b[K \u001b[01;35m\u001b[Kwarning: \u001b[m\u001b[Kreturn type defaults to ‘\u001b[01m\u001b[Kint\u001b[m\u001b[K’ [\u001b[01;35m\u001b[K-Wimplicit-int\u001b[m\u001b[K]\n",
            "    \u001b[01;35m\u001b[Kmain\u001b[m\u001b[K(int argc, char *argv[])  {\n",
            "    \u001b[01;35m\u001b[K^~~~\u001b[m\u001b[K\n",
            "\u001b[01m\u001b[KMPI_Type_indexFIS.c:\u001b[m\u001b[K In function ‘\u001b[01m\u001b[Kmain\u001b[m\u001b[K’:\n",
            "\u001b[01m\u001b[KMPI_Type_indexFIS.c:27:4:\u001b[m\u001b[K \u001b[01;31m\u001b[Kerror: \u001b[m\u001b[Ktoo many arguments to function ‘\u001b[01m\u001b[KMPI_Type_indexed\u001b[m\u001b[K’\n",
            "    \u001b[01;31m\u001b[KMPI_Type_indexed\u001b[m\u001b[K(2, blocklengths, displacements, MPI_FLOAT, &indextype,city);\n",
            "    \u001b[01;31m\u001b[K^~~~~~~~~~~~~~~~\u001b[m\u001b[K\n",
            "In file included from \u001b[01m\u001b[KMPI_Type_indexFIS.c:2:0\u001b[m\u001b[K:\n",
            "\u001b[01m\u001b[K/usr/lib/x86_64-linux-gnu/openmpi/include/mpi.h:1808:20:\u001b[m\u001b[K \u001b[01;36m\u001b[Knote: \u001b[m\u001b[Kdeclared here\n",
            " OMPI_DECLSPEC  int \u001b[01;36m\u001b[KMPI_Type_indexed\u001b[m\u001b[K(int count, const int array_of_blocklengths[],\n",
            "                    \u001b[01;36m\u001b[K^~~~~~~~~~~~~~~~\u001b[m\u001b[K\n",
            "\u001b[01m\u001b[KMPI_Type_indexFIS.c:37:4:\u001b[m\u001b[K \u001b[01;31m\u001b[Kerror: \u001b[m\u001b[Ktoo many arguments to function ‘\u001b[01m\u001b[KMPI_Recv\u001b[m\u001b[K’\n",
            "    \u001b[01;31m\u001b[KMPI_Recv\u001b[m\u001b[K(b, NELEMENTS, MPI_FLOAT, source, tag, MPI_COMM_WORLD, &stat,city);\n",
            "    \u001b[01;31m\u001b[K^~~~~~~~\u001b[m\u001b[K\n",
            "In file included from \u001b[01m\u001b[KMPI_Type_indexFIS.c:2:0\u001b[m\u001b[K:\n",
            "\u001b[01m\u001b[K/usr/lib/x86_64-linux-gnu/openmpi/include/mpi.h:1641:20:\u001b[m\u001b[K \u001b[01;36m\u001b[Knote: \u001b[m\u001b[Kdeclared here\n",
            " OMPI_DECLSPEC  int \u001b[01;36m\u001b[KMPI_Recv\u001b[m\u001b[K(void *buf, int count, MPI_Datatype datatype, int source,\n",
            "                    \u001b[01;36m\u001b[K^~~~~~~~\u001b[m\u001b[K\n"
          ]
        }
      ]
    },
    {
      "cell_type": "code",
      "source": [
        "!mpirun -n 2 --allow-run-as-root MPI_Type_indexFIS"
      ],
      "metadata": {
        "colab": {
          "base_uri": "https://localhost:8080/"
        },
        "id": "zYBA7VGnxib_",
        "outputId": "aa2b933c-f4de-4e92-de24-9ef002a35d6e"
      },
      "execution_count": 31,
      "outputs": [
        {
          "output_type": "stream",
          "name": "stdout",
          "text": [
            "--------------------------------------------------------------------------\n",
            "mpirun was unable to find the specified executable file, and therefore\n",
            "did not launch the job.  This error was first reported for process\n",
            "rank 0; it may have occurred for other processes as well.\n",
            "\n",
            "NOTE: A common cause for this error is misspelling a mpirun command\n",
            "      line parameter option (remember that mpirun interprets the first\n",
            "      unrecognized command line token as the executable).\n",
            "\n",
            "Node:       007c58c9d600\n",
            "Executable: MPI_Type_indexFIS\n",
            "--------------------------------------------------------------------------\n",
            "2 total processes failed to start\n"
          ]
        }
      ]
    },
    {
      "cell_type": "code",
      "source": [
        "%%writefile MPI_Allgatherv.c\n",
        "#include <stdio.h>\n",
        "#include <mpi.h>     \n",
        "\n",
        "int main(int argc, char ** argv) \n",
        "{\n",
        "\n",
        "   int nprocs; /* Number of processes    */\n",
        "   int rank;   /* My process rank        */\n",
        "\n",
        "   /* Start up MPI */\n",
        "   MPI_Init(&argc, &argv); \n",
        "\n",
        "   /* Get the number of processes */\n",
        "   MPI_Comm_size(MPI_COMM_WORLD, &nprocs); \n",
        "double t1, t2; \n",
        "   t1 = MPI_Wtime();\n",
        "   \n",
        "   MPI_Comm_rank(MPI_COMM_WORLD, &rank); \n",
        "\n",
        "   int n = 5;\n",
        "   float xx[n];\n",
        "\n",
        "   int i;\n",
        "   for (i=0;i<n;i++)\n",
        "   {\n",
        "      if ( rank == 0 )\n",
        "         xx[i] = (float)i;\n",
        "      else\n",
        "         xx[i] = -1.0*(float)i;\n",
        "\n",
        "      printf(\"BEFORE***   rank: %d i: %d xx[i]: %f\\n\",rank,i,xx[i]);\n",
        "   }\n",
        "\n",
        "   int scounts[2];\n",
        "   scounts[0] = 3; // slice one is 3 pieces of data\n",
        "   scounts[1] = 2; // slice two is 2 pieces of data\n",
        "\n",
        "   int displs[2];\n",
        "   displs[0] = 0; // slice one starts at array element 0\n",
        "   displs[1] = 3; // slice two starts at array element 3\n",
        "\n",
        "   MPI_Allgatherv(MPI_IN_PLACE,0,MPI_FLOAT,xx,scounts,displs,MPI_FLOAT,MPI_COMM_WORLD);\n",
        "\n",
        "   for (i=0;i<n;i++)\n",
        "   t2 = MPI_Wtime(); \n",
        "   printf( \"Elapsed time is %f\\n\", t2 - t1 ); \n",
        "      printf(\"AFTER***  rank: %d i: %d xx[i]: %f\\n\",rank,i,xx[i]);\n",
        "   \n",
        "   /* Shut down MPI */\n",
        "   MPI_Finalize(); \n",
        "\n",
        "   return 0;\n",
        "\n",
        "}  "
      ],
      "metadata": {
        "id": "TwLFw_NXzAtO",
        "colab": {
          "base_uri": "https://localhost:8080/"
        },
        "outputId": "6fe4c944-4291-460b-95ad-de3f2a939848"
      },
      "execution_count": 32,
      "outputs": [
        {
          "output_type": "stream",
          "name": "stdout",
          "text": [
            "Overwriting MPI_Allgatherv.c\n"
          ]
        }
      ]
    },
    {
      "cell_type": "code",
      "source": [
        "!mpicc MPI_Allgatherv.c -o MPI_Allgatherv"
      ],
      "metadata": {
        "id": "KQBt-nbGUtH0"
      },
      "execution_count": 33,
      "outputs": []
    },
    {
      "cell_type": "code",
      "source": [
        "!mpirun -n 2 --allow-run-as-root MPI_Allgatherv"
      ],
      "metadata": {
        "colab": {
          "base_uri": "https://localhost:8080/"
        },
        "id": "ofEYRN7RU2Mo",
        "outputId": "2df9edfa-ad46-4df5-a08d-cc8009dbbaac"
      },
      "execution_count": 34,
      "outputs": [
        {
          "output_type": "stream",
          "name": "stdout",
          "text": [
            "BEFORE***   rank: 0 i: 0 xx[i]: 0.000000\n",
            "BEFORE***   rank: 0 i: 1 xx[i]: 1.000000\n",
            "BEFORE***   rank: 0 i: 2 xx[i]: 2.000000\n",
            "BEFORE***   rank: 0 i: 3 xx[i]: 3.000000\n",
            "BEFORE***   rank: 0 i: 4 xx[i]: 4.000000\n",
            "BEFORE***   rank: 1 i: 0 xx[i]: -0.000000\n",
            "BEFORE***   rank: 1 i: 1 xx[i]: -1.000000\n",
            "BEFORE***   rank: 1 i: 2 xx[i]: -2.000000\n",
            "BEFORE***   rank: 1 i: 3 xx[i]: -3.000000\n",
            "BEFORE***   rank: 1 i: 4 xx[i]: -4.000000\n",
            "Elapsed time is 0.000243\n",
            "AFTER***  rank: 0 i: 5 xx[i]: 0.000000\n",
            "Elapsed time is 0.000255\n",
            "AFTER***  rank: 1 i: 5 xx[i]: 0.000000\n"
          ]
        }
      ]
    }
  ]
}